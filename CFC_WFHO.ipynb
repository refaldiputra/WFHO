{
 "cells": [
  {
   "cell_type": "markdown",
   "id": "2cd5aa98-4fb0-410a-8fee-9fcbead9f4c5",
   "metadata": {},
   "source": [
    "Summary : WFH/O? is an application to optimize the carbon footprint/ energy of a person to whether working from home or at office.\n",
    "\n",
    "Background : \n",
    "Teleworking becomes popular during the COVID-19 pandemic and it becomes one of working styles adapted around the world.\n",
    "Some studies found that teleworking reduce the CO2 emission because less traveling but some studies also suggested that actually the total energy / CO2 emission doesn't reduce because when the person working from home that person may consume more electricity at home due to utilities and lifestyles but in still many countries the electricity comes with CO2 emission, thus more CO2 emission is emitted. On the other hand, working at office where many people presents and having more efficient energy system may consume less energy per person. Furthermore, the HVAC energy consumption is very dependent with temperature outside in which due to climate change the fluctuations become extreme, when it's hot season it's hotter and when it's cold season it can be colder. Therefore, from the perspective of energy and CO2 emission, the options stay at home or working at office may impact one's carbon footprint.\n",
    "\n",
    "Solution :\n",
    "IBM PAIRS data provides temperature of certain region/coordinate point which can be used and couple with electricity data from an office building (this is also can be provided using IBM services IoT). Combines with ML model, it can be used to predict the electricity meter given by certain temperature forecast. Then it combines with personal carbon footprint or some simple metric like electricity meter of one's house and estimation CO2 emission during commuting, the algorithm optimize the options of working from home or at office. The output is a recommendation whether one should be working from home or working at office. Later it can be integrated with IBM Cloud and IBM Cloud Push Notifications as a mobile application.\n",
    "\n",
    "Disclaimer :\n",
    "This app idea only comes from energy perspective, the other aspects such as productivity, harsh weather, etc. isn't involved yet thus the accuracy of the decision maybe not good. The HVAC energy is also assumed to be temperature-only whereas humidity, etc. are also affected the variable."
   ]
  },
  {
   "cell_type": "markdown",
   "id": "ea59fedc-e42f-4bd5-9894-7a0a3402c098",
   "metadata": {},
   "source": [
    "Refaldi Putra, The University of Tokyo"
   ]
  },
  {
   "cell_type": "code",
   "execution_count": 153,
   "id": "53f60a84-6b68-43b8-af9f-09ce2cfad17e",
   "metadata": {},
   "outputs": [],
   "source": [
    "import pandas as pd\n",
    "import matplotlib.pyplot as plt\n",
    "import numpy as np\n",
    "from datetime import datetime, timedelta"
   ]
  },
  {
   "cell_type": "code",
   "execution_count": 2,
   "id": "27daf27f-6d1a-4685-9caa-e1f6cf62ea1e",
   "metadata": {},
   "outputs": [
    {
     "name": "stdout",
     "output_type": "stream",
     "text": [
      "Collecting opendatasets\n",
      "  Using cached opendatasets-0.1.20-py3-none-any.whl (14 kB)\n",
      "Requirement already satisfied: click in /opt/conda/lib/python3.8/site-packages (from opendatasets) (7.1.2)\n",
      "Requirement already satisfied: tqdm in /opt/conda/lib/python3.8/site-packages (from opendatasets) (4.62.2)\n",
      "Collecting kaggle\n",
      "  Using cached kaggle-1.5.12-py3-none-any.whl\n",
      "Requirement already satisfied: python-dateutil in /opt/conda/lib/python3.8/site-packages (from kaggle->opendatasets) (2.8.2)\n",
      "Requirement already satisfied: six>=1.10 in /opt/conda/lib/python3.8/site-packages (from kaggle->opendatasets) (1.16.0)\n",
      "Collecting python-slugify\n",
      "  Using cached python_slugify-5.0.2-py2.py3-none-any.whl (6.7 kB)\n",
      "Requirement already satisfied: certifi in /opt/conda/lib/python3.8/site-packages (from kaggle->opendatasets) (2021.5.30)\n",
      "Requirement already satisfied: urllib3 in /opt/conda/lib/python3.8/site-packages (from kaggle->opendatasets) (1.26.6)\n",
      "Requirement already satisfied: requests in /opt/conda/lib/python3.8/site-packages (from kaggle->opendatasets) (2.26.0)\n",
      "Collecting text-unidecode>=1.3\n",
      "  Using cached text_unidecode-1.3-py2.py3-none-any.whl (78 kB)\n",
      "Requirement already satisfied: idna<4,>=2.5 in /opt/conda/lib/python3.8/site-packages (from requests->kaggle->opendatasets) (3.1)\n",
      "Requirement already satisfied: charset-normalizer~=2.0.0 in /opt/conda/lib/python3.8/site-packages (from requests->kaggle->opendatasets) (2.0.0)\n",
      "Installing collected packages: text-unidecode, python-slugify, kaggle, opendatasets\n",
      "Successfully installed kaggle-1.5.12 opendatasets-0.1.20 python-slugify-5.0.2 text-unidecode-1.3\n"
     ]
    }
   ],
   "source": [
    "!pip install opendatasets"
   ]
  },
  {
   "cell_type": "code",
   "execution_count": 3,
   "id": "0c9efcb1-fd0a-4753-aa9c-980eea9254bd",
   "metadata": {},
   "outputs": [],
   "source": [
    "import opendatasets as od"
   ]
  },
  {
   "cell_type": "code",
   "execution_count": 4,
   "id": "39ef27a9-952b-40ae-817a-31ce53ece032",
   "metadata": {},
   "outputs": [
    {
     "name": "stdout",
     "output_type": "stream",
     "text": [
      "Skipping, found downloaded files in \"./ucf-building-meter-reading\" (use force=True to force download)\n"
     ]
    }
   ],
   "source": [
    "od.download('https://www.kaggle.com/teeyee314/ucf-building-meter-reading')"
   ]
  },
  {
   "cell_type": "code",
   "execution_count": 5,
   "id": "2f356a5f-4366-4246-9eac-ea8ed32273aa",
   "metadata": {},
   "outputs": [
    {
     "name": "stdout",
     "output_type": "stream",
     "text": [
      "total 1264\n",
      "drwxrwxrwx 13 jovyan users    4096 Sep 27 08:40 .\n",
      "drwxr-xr-x  1 root   root     4096 Jul  8 21:49 ..\n",
      "drwxr-xr-x  5 jovyan users    4096 Sep 26 00:18 .cache\n",
      "drwxr-xr-x  3 nobody users    4096 Sep  7 20:38 cfcdir\n",
      "-rw-r--r--  1 jovyan users 1227331 Sep 27 08:40 CFC_v1.ipynb\n",
      "-rw-r--r--  1 jovyan users      43 Sep 27 21:05 .condarc\n",
      "drwxr-xr-x  3 jovyan users    4096 Sep 23 00:48 .config\n",
      "drwxr-xr-x  2 jovyan users    4096 Sep 26 07:26 downloads\n",
      "drwxr-xr-x  2 jovyan users    4096 Sep 23 00:48 .ipynb_checkpoints\n",
      "drwxr-xr-x  5 jovyan users    4096 Sep 23 00:47 .ipython\n",
      "drwxr-xr-x  3 jovyan users    4096 Sep 26 00:02 .jupyter\n",
      "drwxr-xr-x  2 jovyan users    4096 Sep 27 07:25 .kaggle\n",
      "drwxr-xr-x  3 jovyan users    4096 Sep 23 00:45 .local\n",
      "dr-xr-xr-x  8 jovyan users    4096 Aug 28 01:24 shared_read_only\n",
      "-rwxr-xr-x  1 jovyan users    1786 Sep 27 21:05 SPLASH.md\n",
      "drwxr-xr-x  2 jovyan users    4096 Sep 27 07:25 ucf-building-meter-reading\n"
     ]
    }
   ],
   "source": [
    "!ls -al"
   ]
  },
  {
   "cell_type": "code",
   "execution_count": 6,
   "id": "7a357063-7bfb-4578-b56b-df87e9dc19e7",
   "metadata": {},
   "outputs": [
    {
     "name": "stdout",
     "output_type": "stream",
     "text": [
      "total 33276\n",
      "drwxr-xr-x  2 jovyan users     4096 Sep 27 07:25 .\n",
      "drwxrwxrwx 13 jovyan users     4096 Sep 27 08:40 ..\n",
      "-rw-r--r--  1 jovyan users 33926408 Sep 27 07:25 site0.ft\n"
     ]
    }
   ],
   "source": [
    "!ls -al ./ucf-building-meter-reading"
   ]
  },
  {
   "cell_type": "code",
   "execution_count": 9,
   "id": "0a583f07-ff74-4f42-ac5d-b549d0adce0d",
   "metadata": {},
   "outputs": [
    {
     "name": "stdout",
     "output_type": "stream",
     "text": [
      "Collecting pyarrow\n",
      "  Using cached pyarrow-5.0.0-cp38-cp38-manylinux2014_x86_64.whl (23.6 MB)\n",
      "Requirement already satisfied: numpy>=1.16.6 in /opt/conda/lib/python3.8/site-packages (from pyarrow) (1.21.2)\n",
      "Installing collected packages: pyarrow\n",
      "Successfully installed pyarrow-5.0.0\n"
     ]
    }
   ],
   "source": [
    "!pip install pyarrow"
   ]
  },
  {
   "cell_type": "code",
   "execution_count": 10,
   "id": "fb0fb426-dbae-44af-904b-3f38a5f90a76",
   "metadata": {},
   "outputs": [],
   "source": [
    "UCF_data = pd.read_feather('/home/jovyan/ucf-building-meter-reading/site0.ft')"
   ]
  },
  {
   "cell_type": "code",
   "execution_count": 11,
   "id": "d6dd2f88-6d9a-42bf-a44c-8df1eecc2ff1",
   "metadata": {},
   "outputs": [
    {
     "data": {
      "text/html": [
       "<div>\n",
       "<style scoped>\n",
       "    .dataframe tbody tr th:only-of-type {\n",
       "        vertical-align: middle;\n",
       "    }\n",
       "\n",
       "    .dataframe tbody tr th {\n",
       "        vertical-align: top;\n",
       "    }\n",
       "\n",
       "    .dataframe thead th {\n",
       "        text-align: right;\n",
       "    }\n",
       "</style>\n",
       "<table border=\"1\" class=\"dataframe\">\n",
       "  <thead>\n",
       "    <tr style=\"text-align: right;\">\n",
       "      <th></th>\n",
       "      <th>timestamp</th>\n",
       "      <th>meter_reading</th>\n",
       "      <th>meter</th>\n",
       "      <th>building_id</th>\n",
       "    </tr>\n",
       "  </thead>\n",
       "  <tbody>\n",
       "    <tr>\n",
       "      <th>0</th>\n",
       "      <td>2017-01-01 00:00:00</td>\n",
       "      <td>173.370300</td>\n",
       "      <td>0</td>\n",
       "      <td>0</td>\n",
       "    </tr>\n",
       "    <tr>\n",
       "      <th>1</th>\n",
       "      <td>2017-01-01 01:00:00</td>\n",
       "      <td>178.148209</td>\n",
       "      <td>0</td>\n",
       "      <td>0</td>\n",
       "    </tr>\n",
       "    <tr>\n",
       "      <th>2</th>\n",
       "      <td>2017-01-01 02:00:00</td>\n",
       "      <td>177.465652</td>\n",
       "      <td>0</td>\n",
       "      <td>0</td>\n",
       "    </tr>\n",
       "    <tr>\n",
       "      <th>3</th>\n",
       "      <td>2017-01-01 03:00:00</td>\n",
       "      <td>176.783096</td>\n",
       "      <td>0</td>\n",
       "      <td>0</td>\n",
       "    </tr>\n",
       "    <tr>\n",
       "      <th>4</th>\n",
       "      <td>2017-01-01 04:00:00</td>\n",
       "      <td>177.465652</td>\n",
       "      <td>0</td>\n",
       "      <td>0</td>\n",
       "    </tr>\n",
       "  </tbody>\n",
       "</table>\n",
       "</div>"
      ],
      "text/plain": [
       "            timestamp  meter_reading  meter  building_id\n",
       "0 2017-01-01 00:00:00     173.370300      0            0\n",
       "1 2017-01-01 01:00:00     178.148209      0            0\n",
       "2 2017-01-01 02:00:00     177.465652      0            0\n",
       "3 2017-01-01 03:00:00     176.783096      0            0\n",
       "4 2017-01-01 04:00:00     177.465652      0            0"
      ]
     },
     "execution_count": 11,
     "metadata": {},
     "output_type": "execute_result"
    }
   ],
   "source": [
    "UCF_data.head()"
   ]
  },
  {
   "cell_type": "code",
   "execution_count": 12,
   "id": "25b9a120-5fc5-46a0-8a86-35d7f9b94534",
   "metadata": {},
   "outputs": [
    {
     "data": {
      "text/plain": [
       "array([  0,   1,   2,   3,   4,   5,   6,   7,   8,   9,  10,  11,  12,\n",
       "        13,  14,  15,  16,  17,  18,  19,  20,  21,  22,  23,  24,  25,\n",
       "        26,  27,  90,  28,  29,  30,  31,  32,  33,  34,  35,  36,  37,\n",
       "        38,  39,  40,  41,  42,  43,  44,  45,  46,  47,  48,  49,  67,\n",
       "        77, 100,  50,  51,  52,  53,  54,  55,  56,  57,  58,  59,  60,\n",
       "        61,  62,  63,  64,  65,  66,  85,  68,  69,  70,  71,  72,  73,\n",
       "        74,  75,  76,  78,  79,  80,  81,  82,  83,  84,  86,  87,  88,\n",
       "        89,  91,  92,  93,  94,  95,  96,  97,  98,  99, 101, 102, 103,\n",
       "       104], dtype=int16)"
      ]
     },
     "execution_count": 12,
     "metadata": {},
     "output_type": "execute_result"
    }
   ],
   "source": [
    "UCF_data['building_id'].unique()"
   ]
  },
  {
   "cell_type": "code",
   "execution_count": 14,
   "id": "6ccb387b-5c1e-4243-bc87-a061e2faabaf",
   "metadata": {},
   "outputs": [],
   "source": [
    "#List of building_id for office type building\n",
    "Office = [1,7,13,14,16,18,19,27,29,38,39,49,71,73,77,88,96]"
   ]
  },
  {
   "cell_type": "code",
   "execution_count": 28,
   "id": "a31dc320-cb1d-4c9b-8257-e92fb44886ac",
   "metadata": {},
   "outputs": [
    {
     "data": {
      "text/html": [
       "<div>\n",
       "<style scoped>\n",
       "    .dataframe tbody tr th:only-of-type {\n",
       "        vertical-align: middle;\n",
       "    }\n",
       "\n",
       "    .dataframe tbody tr th {\n",
       "        vertical-align: top;\n",
       "    }\n",
       "\n",
       "    .dataframe thead th {\n",
       "        text-align: right;\n",
       "    }\n",
       "</style>\n",
       "<table border=\"1\" class=\"dataframe\">\n",
       "  <thead>\n",
       "    <tr style=\"text-align: right;\">\n",
       "      <th></th>\n",
       "      <th>timestamp</th>\n",
       "      <th>meter_reading</th>\n",
       "      <th>meter</th>\n",
       "      <th>building_id</th>\n",
       "    </tr>\n",
       "  </thead>\n",
       "  <tbody>\n",
       "    <tr>\n",
       "      <th>17518</th>\n",
       "      <td>2017-01-01 00:00:00</td>\n",
       "      <td>53.512718</td>\n",
       "      <td>0</td>\n",
       "      <td>1</td>\n",
       "    </tr>\n",
       "    <tr>\n",
       "      <th>17519</th>\n",
       "      <td>2017-01-01 01:00:00</td>\n",
       "      <td>52.420624</td>\n",
       "      <td>0</td>\n",
       "      <td>1</td>\n",
       "    </tr>\n",
       "    <tr>\n",
       "      <th>17520</th>\n",
       "      <td>2017-01-01 02:00:00</td>\n",
       "      <td>52.420624</td>\n",
       "      <td>0</td>\n",
       "      <td>1</td>\n",
       "    </tr>\n",
       "    <tr>\n",
       "      <th>17521</th>\n",
       "      <td>2017-01-01 03:00:00</td>\n",
       "      <td>54.331791</td>\n",
       "      <td>0</td>\n",
       "      <td>1</td>\n",
       "    </tr>\n",
       "    <tr>\n",
       "      <th>17522</th>\n",
       "      <td>2017-01-01 04:00:00</td>\n",
       "      <td>53.239697</td>\n",
       "      <td>0</td>\n",
       "      <td>1</td>\n",
       "    </tr>\n",
       "  </tbody>\n",
       "</table>\n",
       "</div>"
      ],
      "text/plain": [
       "                timestamp  meter_reading  meter  building_id\n",
       "17518 2017-01-01 00:00:00      53.512718      0            1\n",
       "17519 2017-01-01 01:00:00      52.420624      0            1\n",
       "17520 2017-01-01 02:00:00      52.420624      0            1\n",
       "17521 2017-01-01 03:00:00      54.331791      0            1\n",
       "17522 2017-01-01 04:00:00      53.239697      0            1"
      ]
     },
     "execution_count": 28,
     "metadata": {},
     "output_type": "execute_result"
    }
   ],
   "source": [
    "UCF_data[UCF_data['building_id']==1].head()"
   ]
  },
  {
   "cell_type": "code",
   "execution_count": 29,
   "id": "5cc86b36-c95b-4350-9ee8-75bf7d0243dc",
   "metadata": {},
   "outputs": [
    {
     "data": {
      "text/plain": [
       "17518"
      ]
     },
     "execution_count": 29,
     "metadata": {},
     "output_type": "execute_result"
    }
   ],
   "source": [
    "# Check the length\n",
    "len(UCF_data[UCF_data['building_id']==1])"
   ]
  },
  {
   "cell_type": "code",
   "execution_count": 30,
   "id": "e80945be-498f-4865-bb89-756a6d8eaf76",
   "metadata": {},
   "outputs": [
    {
     "data": {
      "text/plain": [
       "35036"
      ]
     },
     "execution_count": 30,
     "metadata": {},
     "output_type": "execute_result"
    }
   ],
   "source": [
    "len(UCF_data[UCF_data['building_id']==7])"
   ]
  },
  {
   "cell_type": "code",
   "execution_count": 31,
   "id": "5cfb0d73-af86-4733-b6c0-bdfcdbb8bfad",
   "metadata": {},
   "outputs": [
    {
     "data": {
      "text/plain": [
       "35036"
      ]
     },
     "execution_count": 31,
     "metadata": {},
     "output_type": "execute_result"
    }
   ],
   "source": [
    "len(UCF_data[UCF_data['building_id']==13])"
   ]
  },
  {
   "cell_type": "code",
   "execution_count": 33,
   "id": "28e6d97a-4191-4d15-8db2-c815b5c3db78",
   "metadata": {},
   "outputs": [
    {
     "data": {
      "text/plain": [
       "[17518,\n",
       " 35036,\n",
       " 35036,\n",
       " 35036,\n",
       " 17518,\n",
       " 17518,\n",
       " 17518,\n",
       " 17518,\n",
       " 35036,\n",
       " 17518,\n",
       " 17518,\n",
       " 17518,\n",
       " 17518,\n",
       " 17518,\n",
       " 17518,\n",
       " 17518,\n",
       " 35036]"
      ]
     },
     "execution_count": 33,
     "metadata": {},
     "output_type": "execute_result"
    }
   ],
   "source": [
    "#it seems only id==1 has less data\n",
    "[len(UCF_data[UCF_data['building_id']==i]) for i in Office]"
   ]
  },
  {
   "cell_type": "code",
   "execution_count": 38,
   "id": "ccb6853c-49f4-43dc-bcdd-e604aa9383e5",
   "metadata": {},
   "outputs": [],
   "source": [
    "#The difference of lenght because there are 2 kinds of meter"
   ]
  },
  {
   "cell_type": "code",
   "execution_count": 120,
   "id": "d5156c7e-7a60-478b-83b7-7e89462264e1",
   "metadata": {},
   "outputs": [
    {
     "data": {
      "text/html": [
       "<div>\n",
       "<style scoped>\n",
       "    .dataframe tbody tr th:only-of-type {\n",
       "        vertical-align: middle;\n",
       "    }\n",
       "\n",
       "    .dataframe tbody tr th {\n",
       "        vertical-align: top;\n",
       "    }\n",
       "\n",
       "    .dataframe thead th {\n",
       "        text-align: right;\n",
       "    }\n",
       "</style>\n",
       "<table border=\"1\" class=\"dataframe\">\n",
       "  <thead>\n",
       "    <tr style=\"text-align: right;\">\n",
       "      <th></th>\n",
       "      <th>timestamp</th>\n",
       "      <th>meter_reading</th>\n",
       "      <th>meter</th>\n",
       "      <th>building_id</th>\n",
       "    </tr>\n",
       "  </thead>\n",
       "  <tbody>\n",
       "    <tr>\n",
       "      <th>332842</th>\n",
       "      <td>2017-01-01 00:00:00</td>\n",
       "      <td>174.735413</td>\n",
       "      <td>0</td>\n",
       "      <td>19</td>\n",
       "    </tr>\n",
       "    <tr>\n",
       "      <th>332843</th>\n",
       "      <td>2017-01-01 01:00:00</td>\n",
       "      <td>174.735413</td>\n",
       "      <td>0</td>\n",
       "      <td>19</td>\n",
       "    </tr>\n",
       "    <tr>\n",
       "      <th>332844</th>\n",
       "      <td>2017-01-01 02:00:00</td>\n",
       "      <td>169.274933</td>\n",
       "      <td>0</td>\n",
       "      <td>19</td>\n",
       "    </tr>\n",
       "    <tr>\n",
       "      <th>332845</th>\n",
       "      <td>2017-01-01 03:00:00</td>\n",
       "      <td>188.386627</td>\n",
       "      <td>0</td>\n",
       "      <td>19</td>\n",
       "    </tr>\n",
       "    <tr>\n",
       "      <th>332846</th>\n",
       "      <td>2017-01-01 04:00:00</td>\n",
       "      <td>178.011703</td>\n",
       "      <td>0</td>\n",
       "      <td>19</td>\n",
       "    </tr>\n",
       "    <tr>\n",
       "      <th>...</th>\n",
       "      <td>...</td>\n",
       "      <td>...</td>\n",
       "      <td>...</td>\n",
       "      <td>...</td>\n",
       "    </tr>\n",
       "    <tr>\n",
       "      <th>350355</th>\n",
       "      <td>2018-12-31 19:00:00</td>\n",
       "      <td>137.058090</td>\n",
       "      <td>0</td>\n",
       "      <td>19</td>\n",
       "    </tr>\n",
       "    <tr>\n",
       "      <th>350356</th>\n",
       "      <td>2018-12-31 20:00:00</td>\n",
       "      <td>139.242279</td>\n",
       "      <td>0</td>\n",
       "      <td>19</td>\n",
       "    </tr>\n",
       "    <tr>\n",
       "      <th>350357</th>\n",
       "      <td>2018-12-31 21:00:00</td>\n",
       "      <td>130.505508</td>\n",
       "      <td>0</td>\n",
       "      <td>19</td>\n",
       "    </tr>\n",
       "    <tr>\n",
       "      <th>350358</th>\n",
       "      <td>2018-12-31 22:00:00</td>\n",
       "      <td>138.150177</td>\n",
       "      <td>0</td>\n",
       "      <td>19</td>\n",
       "    </tr>\n",
       "    <tr>\n",
       "      <th>350359</th>\n",
       "      <td>2018-12-31 23:00:00</td>\n",
       "      <td>85.183517</td>\n",
       "      <td>0</td>\n",
       "      <td>19</td>\n",
       "    </tr>\n",
       "  </tbody>\n",
       "</table>\n",
       "<p>17518 rows × 4 columns</p>\n",
       "</div>"
      ],
      "text/plain": [
       "                 timestamp  meter_reading  meter  building_id\n",
       "332842 2017-01-01 00:00:00     174.735413      0           19\n",
       "332843 2017-01-01 01:00:00     174.735413      0           19\n",
       "332844 2017-01-01 02:00:00     169.274933      0           19\n",
       "332845 2017-01-01 03:00:00     188.386627      0           19\n",
       "332846 2017-01-01 04:00:00     178.011703      0           19\n",
       "...                    ...            ...    ...          ...\n",
       "350355 2018-12-31 19:00:00     137.058090      0           19\n",
       "350356 2018-12-31 20:00:00     139.242279      0           19\n",
       "350357 2018-12-31 21:00:00     130.505508      0           19\n",
       "350358 2018-12-31 22:00:00     138.150177      0           19\n",
       "350359 2018-12-31 23:00:00      85.183517      0           19\n",
       "\n",
       "[17518 rows x 4 columns]"
      ]
     },
     "execution_count": 120,
     "metadata": {},
     "output_type": "execute_result"
    }
   ],
   "source": [
    "# Let's the pick id 19 as the primary data for office energy\n",
    "# It's Rehearsal Hall with area of 10743 sqft\n",
    "# Assume for 10 people capacity\n",
    "UCF_data[UCF_data['building_id']==19]"
   ]
  },
  {
   "cell_type": "code",
   "execution_count": 41,
   "id": "3e8b79ba-69da-473c-b6fb-a2a967f733f9",
   "metadata": {},
   "outputs": [],
   "source": [
    "oneSec = timedelta(seconds=1)\n",
    "iso8601 = '%Y-%m-%dT%H:%M:%SZ'"
   ]
  },
  {
   "cell_type": "code",
   "execution_count": 42,
   "id": "d34b946b-1926-48eb-81cb-06e3d1d73df4",
   "metadata": {},
   "outputs": [],
   "source": [
    "# Now data from PAIRS\n",
    "import json\n",
    "\n",
    "from ibmpairs import paw, authentication\n",
    "\n",
    "\n",
    "PAIRS_API_KEY = '0w3WH7tLFGrPDynba26LF1BIyIDBvdSSF7mcsauWK3o' # Put your API key here. Important: Best practice is not to include secrets in source code.\n",
    "\n",
    "PAIRS_SERVER   = 'https://pairs.res.ibm.com'\n",
    "\n",
    "PAIRS_CREDENTIALS = authentication.OAuth2(api_key = PAIRS_API_KEY)"
   ]
  },
  {
   "cell_type": "code",
   "execution_count": 72,
   "id": "e52ad093-c765-4bc5-a9e3-cab31b6fd919",
   "metadata": {},
   "outputs": [],
   "source": [
    "pointQueryJson = {\n",
    "    'layers' : [\n",
    "        {\n",
    "            'type' : 'raster', 'id' : '49423' #ERA5 Temperature\n",
    "        }\n",
    "    ],\n",
    "    'spatial' : {'type' : 'point', 'coordinates' : ['28.6', '-81.2']}, #Coordinate UCF\n",
    "    'temporal' : {'intervals' : [{\n",
    "        'start' : \"2017-01-01T05:00:00Z\", #Since UTC time, it needs to take 5 hours ahead\n",
    "        'end' : \"2019-01-01T04:00:00Z\"\n",
    "    }]}\n",
    "}"
   ]
  },
  {
   "cell_type": "code",
   "execution_count": 73,
   "id": "c9e24109-b9e0-4801-9374-67fceb792260",
   "metadata": {},
   "outputs": [
    {
     "name": "stderr",
     "output_type": "stream",
     "text": [
      "GeoPandas not available on your system. Cannot convert vector dataframe to GeoPandas dataframe.\n"
     ]
    }
   ],
   "source": [
    "pointQuery = paw.PAIRSQuery(pointQueryJson, PAIRS_SERVER, PAIRS_CREDENTIALS, authType='api-key')\n",
    "pointQuery.submit()\n",
    "pointQuery.vdf['value'] = pd.to_numeric(pointQuery.vdf['value'])"
   ]
  },
  {
   "cell_type": "code",
   "execution_count": 43,
   "id": "94f1eb37-e76f-4a75-9e9a-e25e8ea95704",
   "metadata": {},
   "outputs": [],
   "source": [
    "weather_data = pointQuery.vdf.pivot_table(index = 'timestamp', columns = 'layerId', values = 'value').dropna()"
   ]
  },
  {
   "cell_type": "code",
   "execution_count": 79,
   "id": "ed683c82-a601-4869-bda4-5e0b37b38f38",
   "metadata": {},
   "outputs": [
    {
     "data": {
      "text/plain": [
       "0       2017-01-01 06:00:00+00:00\n",
       "1       2017-01-01 07:00:00+00:00\n",
       "2       2017-01-01 08:00:00+00:00\n",
       "3       2017-01-01 09:00:00+00:00\n",
       "4       2017-01-01 10:00:00+00:00\n",
       "                   ...           \n",
       "17514   2019-01-01 00:00:00+00:00\n",
       "17515   2019-01-01 01:00:00+00:00\n",
       "17516   2019-01-01 02:00:00+00:00\n",
       "17517   2019-01-01 03:00:00+00:00\n",
       "17518   2019-01-01 04:00:00+00:00\n",
       "Name: timestamp, Length: 17519, dtype: datetime64[ns, UTC]"
      ]
     },
     "execution_count": 79,
     "metadata": {},
     "output_type": "execute_result"
    }
   ],
   "source": [
    "pointQuery.vdf['timestamp']"
   ]
  },
  {
   "cell_type": "code",
   "execution_count": 81,
   "id": "3ef41910-6f44-492d-8b57-c2e1908a4078",
   "metadata": {},
   "outputs": [
    {
     "data": {
      "text/plain": [
       "0       2017-01-01 00:00:00-06:00\n",
       "1       2017-01-01 01:00:00-06:00\n",
       "2       2017-01-01 02:00:00-06:00\n",
       "3       2017-01-01 03:00:00-06:00\n",
       "4       2017-01-01 04:00:00-06:00\n",
       "                   ...           \n",
       "17514   2018-12-31 18:00:00-06:00\n",
       "17515   2018-12-31 19:00:00-06:00\n",
       "17516   2018-12-31 20:00:00-06:00\n",
       "17517   2018-12-31 21:00:00-06:00\n",
       "17518   2018-12-31 22:00:00-06:00\n",
       "Name: timestamp, Length: 17519, dtype: datetime64[ns, US/Central]"
      ]
     },
     "execution_count": 81,
     "metadata": {},
     "output_type": "execute_result"
    }
   ],
   "source": [
    "pointQuery.vdf['timestamp'].dt.tz_convert('US/Central')"
   ]
  },
  {
   "cell_type": "code",
   "execution_count": 82,
   "id": "d4f82c70-e46f-44ba-956d-c08984fc611d",
   "metadata": {},
   "outputs": [],
   "source": [
    "Temperature_data = pd.DataFrame(pointQuery.vdf['timestamp'].dt.tz_convert('US/Central'))"
   ]
  },
  {
   "cell_type": "code",
   "execution_count": 84,
   "id": "deff737e-780d-4506-88c5-96ae65d4ce2e",
   "metadata": {},
   "outputs": [],
   "source": [
    "Temperature_data['Temperature (K)'] = pointQuery.vdf['value']"
   ]
  },
  {
   "cell_type": "code",
   "execution_count": 86,
   "id": "ec3e725f-08f7-478d-be46-a56cd3a5e0b0",
   "metadata": {},
   "outputs": [
    {
     "data": {
      "text/html": [
       "<div>\n",
       "<style scoped>\n",
       "    .dataframe tbody tr th:only-of-type {\n",
       "        vertical-align: middle;\n",
       "    }\n",
       "\n",
       "    .dataframe tbody tr th {\n",
       "        vertical-align: top;\n",
       "    }\n",
       "\n",
       "    .dataframe thead th {\n",
       "        text-align: right;\n",
       "    }\n",
       "</style>\n",
       "<table border=\"1\" class=\"dataframe\">\n",
       "  <thead>\n",
       "    <tr style=\"text-align: right;\">\n",
       "      <th></th>\n",
       "      <th>timestamp</th>\n",
       "      <th>Temperature (K)</th>\n",
       "    </tr>\n",
       "  </thead>\n",
       "  <tbody>\n",
       "    <tr>\n",
       "      <th>0</th>\n",
       "      <td>2017-01-01 00:00:00-06:00</td>\n",
       "      <td>288.403717</td>\n",
       "    </tr>\n",
       "    <tr>\n",
       "      <th>1</th>\n",
       "      <td>2017-01-01 01:00:00-06:00</td>\n",
       "      <td>288.215302</td>\n",
       "    </tr>\n",
       "    <tr>\n",
       "      <th>2</th>\n",
       "      <td>2017-01-01 02:00:00-06:00</td>\n",
       "      <td>287.787018</td>\n",
       "    </tr>\n",
       "    <tr>\n",
       "      <th>3</th>\n",
       "      <td>2017-01-01 03:00:00-06:00</td>\n",
       "      <td>286.906189</td>\n",
       "    </tr>\n",
       "    <tr>\n",
       "      <th>4</th>\n",
       "      <td>2017-01-01 04:00:00-06:00</td>\n",
       "      <td>286.200562</td>\n",
       "    </tr>\n",
       "    <tr>\n",
       "      <th>...</th>\n",
       "      <td>...</td>\n",
       "      <td>...</td>\n",
       "    </tr>\n",
       "    <tr>\n",
       "      <th>17514</th>\n",
       "      <td>2018-12-31 18:00:00-06:00</td>\n",
       "      <td>297.451599</td>\n",
       "    </tr>\n",
       "    <tr>\n",
       "      <th>17515</th>\n",
       "      <td>2018-12-31 19:00:00-06:00</td>\n",
       "      <td>296.951111</td>\n",
       "    </tr>\n",
       "    <tr>\n",
       "      <th>17516</th>\n",
       "      <td>2018-12-31 20:00:00-06:00</td>\n",
       "      <td>296.328400</td>\n",
       "    </tr>\n",
       "    <tr>\n",
       "      <th>17517</th>\n",
       "      <td>2018-12-31 21:00:00-06:00</td>\n",
       "      <td>295.693542</td>\n",
       "    </tr>\n",
       "    <tr>\n",
       "      <th>17518</th>\n",
       "      <td>2018-12-31 22:00:00-06:00</td>\n",
       "      <td>295.543396</td>\n",
       "    </tr>\n",
       "  </tbody>\n",
       "</table>\n",
       "<p>17519 rows × 2 columns</p>\n",
       "</div>"
      ],
      "text/plain": [
       "                      timestamp  Temperature (K)\n",
       "0     2017-01-01 00:00:00-06:00       288.403717\n",
       "1     2017-01-01 01:00:00-06:00       288.215302\n",
       "2     2017-01-01 02:00:00-06:00       287.787018\n",
       "3     2017-01-01 03:00:00-06:00       286.906189\n",
       "4     2017-01-01 04:00:00-06:00       286.200562\n",
       "...                         ...              ...\n",
       "17514 2018-12-31 18:00:00-06:00       297.451599\n",
       "17515 2018-12-31 19:00:00-06:00       296.951111\n",
       "17516 2018-12-31 20:00:00-06:00       296.328400\n",
       "17517 2018-12-31 21:00:00-06:00       295.693542\n",
       "17518 2018-12-31 22:00:00-06:00       295.543396\n",
       "\n",
       "[17519 rows x 2 columns]"
      ]
     },
     "execution_count": 86,
     "metadata": {},
     "output_type": "execute_result"
    }
   ],
   "source": [
    "Temperature_data"
   ]
  },
  {
   "cell_type": "code",
   "execution_count": 121,
   "id": "ef16a767-008e-4e6e-917f-f02d66761578",
   "metadata": {},
   "outputs": [],
   "source": [
    "#Building the Dataframe\n",
    "whole_data = pd.DataFrame(index = None)"
   ]
  },
  {
   "cell_type": "code",
   "execution_count": 122,
   "id": "768a91e2-17cc-41b5-80bf-fe01b684cbfb",
   "metadata": {},
   "outputs": [
    {
     "data": {
      "text/html": [
       "<div>\n",
       "<style scoped>\n",
       "    .dataframe tbody tr th:only-of-type {\n",
       "        vertical-align: middle;\n",
       "    }\n",
       "\n",
       "    .dataframe tbody tr th {\n",
       "        vertical-align: top;\n",
       "    }\n",
       "\n",
       "    .dataframe thead th {\n",
       "        text-align: right;\n",
       "    }\n",
       "</style>\n",
       "<table border=\"1\" class=\"dataframe\">\n",
       "  <thead>\n",
       "    <tr style=\"text-align: right;\">\n",
       "      <th></th>\n",
       "    </tr>\n",
       "  </thead>\n",
       "  <tbody>\n",
       "  </tbody>\n",
       "</table>\n",
       "</div>"
      ],
      "text/plain": [
       "Empty DataFrame\n",
       "Columns: []\n",
       "Index: []"
      ]
     },
     "execution_count": 122,
     "metadata": {},
     "output_type": "execute_result"
    }
   ],
   "source": [
    "whole_data"
   ]
  },
  {
   "cell_type": "code",
   "execution_count": 123,
   "id": "19739b5d-93f1-46c6-a58a-391e897ab899",
   "metadata": {},
   "outputs": [],
   "source": [
    "whole_data['timestamp'] = UCF_data[UCF_data['building_id']==19]['timestamp']"
   ]
  },
  {
   "cell_type": "code",
   "execution_count": 124,
   "id": "1b2eb7c5-0c1b-408d-8711-935a5920cd8a",
   "metadata": {},
   "outputs": [],
   "source": [
    "whole_data['electricity'] = UCF_data[UCF_data['building_id']==19]['meter_reading']/10 #Assume 10 occupants"
   ]
  },
  {
   "cell_type": "code",
   "execution_count": 125,
   "id": "7e3db785-5f71-4bcd-8726-e82b408282b5",
   "metadata": {},
   "outputs": [
    {
     "data": {
      "text/html": [
       "<div>\n",
       "<style scoped>\n",
       "    .dataframe tbody tr th:only-of-type {\n",
       "        vertical-align: middle;\n",
       "    }\n",
       "\n",
       "    .dataframe tbody tr th {\n",
       "        vertical-align: top;\n",
       "    }\n",
       "\n",
       "    .dataframe thead th {\n",
       "        text-align: right;\n",
       "    }\n",
       "</style>\n",
       "<table border=\"1\" class=\"dataframe\">\n",
       "  <thead>\n",
       "    <tr style=\"text-align: right;\">\n",
       "      <th></th>\n",
       "      <th>timestamp</th>\n",
       "      <th>electricity</th>\n",
       "    </tr>\n",
       "  </thead>\n",
       "  <tbody>\n",
       "    <tr>\n",
       "      <th>332842</th>\n",
       "      <td>2017-01-01 00:00:00</td>\n",
       "      <td>17.473541</td>\n",
       "    </tr>\n",
       "    <tr>\n",
       "      <th>332843</th>\n",
       "      <td>2017-01-01 01:00:00</td>\n",
       "      <td>17.473541</td>\n",
       "    </tr>\n",
       "    <tr>\n",
       "      <th>332844</th>\n",
       "      <td>2017-01-01 02:00:00</td>\n",
       "      <td>16.927494</td>\n",
       "    </tr>\n",
       "    <tr>\n",
       "      <th>332845</th>\n",
       "      <td>2017-01-01 03:00:00</td>\n",
       "      <td>18.838663</td>\n",
       "    </tr>\n",
       "    <tr>\n",
       "      <th>332846</th>\n",
       "      <td>2017-01-01 04:00:00</td>\n",
       "      <td>17.801170</td>\n",
       "    </tr>\n",
       "    <tr>\n",
       "      <th>...</th>\n",
       "      <td>...</td>\n",
       "      <td>...</td>\n",
       "    </tr>\n",
       "    <tr>\n",
       "      <th>350355</th>\n",
       "      <td>2018-12-31 19:00:00</td>\n",
       "      <td>13.705809</td>\n",
       "    </tr>\n",
       "    <tr>\n",
       "      <th>350356</th>\n",
       "      <td>2018-12-31 20:00:00</td>\n",
       "      <td>13.924228</td>\n",
       "    </tr>\n",
       "    <tr>\n",
       "      <th>350357</th>\n",
       "      <td>2018-12-31 21:00:00</td>\n",
       "      <td>13.050550</td>\n",
       "    </tr>\n",
       "    <tr>\n",
       "      <th>350358</th>\n",
       "      <td>2018-12-31 22:00:00</td>\n",
       "      <td>13.815018</td>\n",
       "    </tr>\n",
       "    <tr>\n",
       "      <th>350359</th>\n",
       "      <td>2018-12-31 23:00:00</td>\n",
       "      <td>8.518352</td>\n",
       "    </tr>\n",
       "  </tbody>\n",
       "</table>\n",
       "<p>17518 rows × 2 columns</p>\n",
       "</div>"
      ],
      "text/plain": [
       "                 timestamp  electricity\n",
       "332842 2017-01-01 00:00:00    17.473541\n",
       "332843 2017-01-01 01:00:00    17.473541\n",
       "332844 2017-01-01 02:00:00    16.927494\n",
       "332845 2017-01-01 03:00:00    18.838663\n",
       "332846 2017-01-01 04:00:00    17.801170\n",
       "...                    ...          ...\n",
       "350355 2018-12-31 19:00:00    13.705809\n",
       "350356 2018-12-31 20:00:00    13.924228\n",
       "350357 2018-12-31 21:00:00    13.050550\n",
       "350358 2018-12-31 22:00:00    13.815018\n",
       "350359 2018-12-31 23:00:00     8.518352\n",
       "\n",
       "[17518 rows x 2 columns]"
      ]
     },
     "execution_count": 125,
     "metadata": {},
     "output_type": "execute_result"
    }
   ],
   "source": [
    "whole_data"
   ]
  },
  {
   "cell_type": "code",
   "execution_count": 126,
   "id": "935914d4-6884-44d7-a14d-bc7bf0a44eb2",
   "metadata": {},
   "outputs": [],
   "source": [
    "whole_data=whole_data.reset_index(drop=True)"
   ]
  },
  {
   "cell_type": "code",
   "execution_count": 128,
   "id": "4143ab2b-75c7-45ce-ac69-dd2c09778920",
   "metadata": {},
   "outputs": [],
   "source": [
    "whole_data['temperature'] = Temperature_data['Temperature (K)'].iloc[:-1]"
   ]
  },
  {
   "cell_type": "code",
   "execution_count": 129,
   "id": "e2c3cecf-bdd6-4fa6-82f5-6ccc6a8f12f3",
   "metadata": {},
   "outputs": [
    {
     "data": {
      "text/html": [
       "<div>\n",
       "<style scoped>\n",
       "    .dataframe tbody tr th:only-of-type {\n",
       "        vertical-align: middle;\n",
       "    }\n",
       "\n",
       "    .dataframe tbody tr th {\n",
       "        vertical-align: top;\n",
       "    }\n",
       "\n",
       "    .dataframe thead th {\n",
       "        text-align: right;\n",
       "    }\n",
       "</style>\n",
       "<table border=\"1\" class=\"dataframe\">\n",
       "  <thead>\n",
       "    <tr style=\"text-align: right;\">\n",
       "      <th></th>\n",
       "      <th>timestamp</th>\n",
       "      <th>electricity</th>\n",
       "      <th>temperature</th>\n",
       "    </tr>\n",
       "  </thead>\n",
       "  <tbody>\n",
       "    <tr>\n",
       "      <th>0</th>\n",
       "      <td>2017-01-01 00:00:00</td>\n",
       "      <td>17.473541</td>\n",
       "      <td>288.403717</td>\n",
       "    </tr>\n",
       "    <tr>\n",
       "      <th>1</th>\n",
       "      <td>2017-01-01 01:00:00</td>\n",
       "      <td>17.473541</td>\n",
       "      <td>288.215302</td>\n",
       "    </tr>\n",
       "    <tr>\n",
       "      <th>2</th>\n",
       "      <td>2017-01-01 02:00:00</td>\n",
       "      <td>16.927494</td>\n",
       "      <td>287.787018</td>\n",
       "    </tr>\n",
       "    <tr>\n",
       "      <th>3</th>\n",
       "      <td>2017-01-01 03:00:00</td>\n",
       "      <td>18.838663</td>\n",
       "      <td>286.906189</td>\n",
       "    </tr>\n",
       "    <tr>\n",
       "      <th>4</th>\n",
       "      <td>2017-01-01 04:00:00</td>\n",
       "      <td>17.801170</td>\n",
       "      <td>286.200562</td>\n",
       "    </tr>\n",
       "    <tr>\n",
       "      <th>...</th>\n",
       "      <td>...</td>\n",
       "      <td>...</td>\n",
       "      <td>...</td>\n",
       "    </tr>\n",
       "    <tr>\n",
       "      <th>17513</th>\n",
       "      <td>2018-12-31 19:00:00</td>\n",
       "      <td>13.705809</td>\n",
       "      <td>297.411804</td>\n",
       "    </tr>\n",
       "    <tr>\n",
       "      <th>17514</th>\n",
       "      <td>2018-12-31 20:00:00</td>\n",
       "      <td>13.924228</td>\n",
       "      <td>297.451599</td>\n",
       "    </tr>\n",
       "    <tr>\n",
       "      <th>17515</th>\n",
       "      <td>2018-12-31 21:00:00</td>\n",
       "      <td>13.050550</td>\n",
       "      <td>296.951111</td>\n",
       "    </tr>\n",
       "    <tr>\n",
       "      <th>17516</th>\n",
       "      <td>2018-12-31 22:00:00</td>\n",
       "      <td>13.815018</td>\n",
       "      <td>296.328400</td>\n",
       "    </tr>\n",
       "    <tr>\n",
       "      <th>17517</th>\n",
       "      <td>2018-12-31 23:00:00</td>\n",
       "      <td>8.518352</td>\n",
       "      <td>295.693542</td>\n",
       "    </tr>\n",
       "  </tbody>\n",
       "</table>\n",
       "<p>17518 rows × 3 columns</p>\n",
       "</div>"
      ],
      "text/plain": [
       "                timestamp  electricity  temperature\n",
       "0     2017-01-01 00:00:00    17.473541   288.403717\n",
       "1     2017-01-01 01:00:00    17.473541   288.215302\n",
       "2     2017-01-01 02:00:00    16.927494   287.787018\n",
       "3     2017-01-01 03:00:00    18.838663   286.906189\n",
       "4     2017-01-01 04:00:00    17.801170   286.200562\n",
       "...                   ...          ...          ...\n",
       "17513 2018-12-31 19:00:00    13.705809   297.411804\n",
       "17514 2018-12-31 20:00:00    13.924228   297.451599\n",
       "17515 2018-12-31 21:00:00    13.050550   296.951111\n",
       "17516 2018-12-31 22:00:00    13.815018   296.328400\n",
       "17517 2018-12-31 23:00:00     8.518352   295.693542\n",
       "\n",
       "[17518 rows x 3 columns]"
      ]
     },
     "execution_count": 129,
     "metadata": {},
     "output_type": "execute_result"
    }
   ],
   "source": [
    "whole_data"
   ]
  },
  {
   "cell_type": "code",
   "execution_count": 130,
   "id": "098fa3ce-367d-4c83-bce5-b8bdee492157",
   "metadata": {},
   "outputs": [],
   "source": [
    "whole_data['norm_elec']=whole_data['electricity']/max(whole_data['electricity'])\n",
    "whole_data['norm_temp']=whole_data['temperature']/max(whole_data['temperature'])"
   ]
  },
  {
   "cell_type": "code",
   "execution_count": 131,
   "id": "2dbdf711-56c0-4787-ba25-67ca897fa81f",
   "metadata": {},
   "outputs": [
    {
     "data": {
      "text/html": [
       "<div>\n",
       "<style scoped>\n",
       "    .dataframe tbody tr th:only-of-type {\n",
       "        vertical-align: middle;\n",
       "    }\n",
       "\n",
       "    .dataframe tbody tr th {\n",
       "        vertical-align: top;\n",
       "    }\n",
       "\n",
       "    .dataframe thead th {\n",
       "        text-align: right;\n",
       "    }\n",
       "</style>\n",
       "<table border=\"1\" class=\"dataframe\">\n",
       "  <thead>\n",
       "    <tr style=\"text-align: right;\">\n",
       "      <th></th>\n",
       "      <th>timestamp</th>\n",
       "      <th>electricity</th>\n",
       "      <th>temperature</th>\n",
       "      <th>norm_elec</th>\n",
       "      <th>norm_temp</th>\n",
       "    </tr>\n",
       "  </thead>\n",
       "  <tbody>\n",
       "    <tr>\n",
       "      <th>0</th>\n",
       "      <td>2017-01-01 00:00:00</td>\n",
       "      <td>17.473541</td>\n",
       "      <td>288.403717</td>\n",
       "      <td>0.418848</td>\n",
       "      <td>0.938157</td>\n",
       "    </tr>\n",
       "    <tr>\n",
       "      <th>1</th>\n",
       "      <td>2017-01-01 01:00:00</td>\n",
       "      <td>17.473541</td>\n",
       "      <td>288.215302</td>\n",
       "      <td>0.418848</td>\n",
       "      <td>0.937544</td>\n",
       "    </tr>\n",
       "    <tr>\n",
       "      <th>2</th>\n",
       "      <td>2017-01-01 02:00:00</td>\n",
       "      <td>16.927494</td>\n",
       "      <td>287.787018</td>\n",
       "      <td>0.405759</td>\n",
       "      <td>0.936151</td>\n",
       "    </tr>\n",
       "    <tr>\n",
       "      <th>3</th>\n",
       "      <td>2017-01-01 03:00:00</td>\n",
       "      <td>18.838663</td>\n",
       "      <td>286.906189</td>\n",
       "      <td>0.451571</td>\n",
       "      <td>0.933286</td>\n",
       "    </tr>\n",
       "    <tr>\n",
       "      <th>4</th>\n",
       "      <td>2017-01-01 04:00:00</td>\n",
       "      <td>17.801170</td>\n",
       "      <td>286.200562</td>\n",
       "      <td>0.426702</td>\n",
       "      <td>0.930990</td>\n",
       "    </tr>\n",
       "    <tr>\n",
       "      <th>...</th>\n",
       "      <td>...</td>\n",
       "      <td>...</td>\n",
       "      <td>...</td>\n",
       "      <td>...</td>\n",
       "      <td>...</td>\n",
       "    </tr>\n",
       "    <tr>\n",
       "      <th>17513</th>\n",
       "      <td>2018-12-31 19:00:00</td>\n",
       "      <td>13.705809</td>\n",
       "      <td>297.411804</td>\n",
       "      <td>0.328534</td>\n",
       "      <td>0.967460</td>\n",
       "    </tr>\n",
       "    <tr>\n",
       "      <th>17514</th>\n",
       "      <td>2018-12-31 20:00:00</td>\n",
       "      <td>13.924228</td>\n",
       "      <td>297.451599</td>\n",
       "      <td>0.333770</td>\n",
       "      <td>0.967589</td>\n",
       "    </tr>\n",
       "    <tr>\n",
       "      <th>17515</th>\n",
       "      <td>2018-12-31 21:00:00</td>\n",
       "      <td>13.050550</td>\n",
       "      <td>296.951111</td>\n",
       "      <td>0.312827</td>\n",
       "      <td>0.965961</td>\n",
       "    </tr>\n",
       "    <tr>\n",
       "      <th>17516</th>\n",
       "      <td>2018-12-31 22:00:00</td>\n",
       "      <td>13.815018</td>\n",
       "      <td>296.328400</td>\n",
       "      <td>0.331152</td>\n",
       "      <td>0.963936</td>\n",
       "    </tr>\n",
       "    <tr>\n",
       "      <th>17517</th>\n",
       "      <td>2018-12-31 23:00:00</td>\n",
       "      <td>8.518352</td>\n",
       "      <td>295.693542</td>\n",
       "      <td>0.204188</td>\n",
       "      <td>0.961870</td>\n",
       "    </tr>\n",
       "  </tbody>\n",
       "</table>\n",
       "<p>17518 rows × 5 columns</p>\n",
       "</div>"
      ],
      "text/plain": [
       "                timestamp  electricity  temperature  norm_elec  norm_temp\n",
       "0     2017-01-01 00:00:00    17.473541   288.403717   0.418848   0.938157\n",
       "1     2017-01-01 01:00:00    17.473541   288.215302   0.418848   0.937544\n",
       "2     2017-01-01 02:00:00    16.927494   287.787018   0.405759   0.936151\n",
       "3     2017-01-01 03:00:00    18.838663   286.906189   0.451571   0.933286\n",
       "4     2017-01-01 04:00:00    17.801170   286.200562   0.426702   0.930990\n",
       "...                   ...          ...          ...        ...        ...\n",
       "17513 2018-12-31 19:00:00    13.705809   297.411804   0.328534   0.967460\n",
       "17514 2018-12-31 20:00:00    13.924228   297.451599   0.333770   0.967589\n",
       "17515 2018-12-31 21:00:00    13.050550   296.951111   0.312827   0.965961\n",
       "17516 2018-12-31 22:00:00    13.815018   296.328400   0.331152   0.963936\n",
       "17517 2018-12-31 23:00:00     8.518352   295.693542   0.204188   0.961870\n",
       "\n",
       "[17518 rows x 5 columns]"
      ]
     },
     "execution_count": 131,
     "metadata": {},
     "output_type": "execute_result"
    }
   ],
   "source": [
    "whole_data"
   ]
  },
  {
   "cell_type": "code",
   "execution_count": 133,
   "id": "b10a8ad6-7ee0-4d48-8669-cc7ce1d7937d",
   "metadata": {},
   "outputs": [
    {
     "data": {
      "image/png": "[encoded data removed]",
      "text/plain": [
       "<Figure size 864x720 with 1 Axes>"
      ]
     },
     "metadata": {
      "needs_background": "light"
     },
     "output_type": "display_data"
    }
   ],
   "source": [
    "plt.plot(whole_data['timestamp'],whole_data['norm_elec'])\n",
    "plt.plot(whole_data['timestamp'],whole_data['norm_temp'])\n",
    "fig = plt.gcf()\n",
    "fig.set_size_inches(12, 10)"
   ]
  },
  {
   "cell_type": "code",
   "execution_count": 134,
   "id": "73dc5443-2ac7-4ff6-9b61-0474232904a7",
   "metadata": {},
   "outputs": [
    {
     "data": {
      "image/png": "[encoded data removed]",
      "text/plain": [
       "<Figure size 864x720 with 1 Axes>"
      ]
     },
     "metadata": {
      "needs_background": "light"
     },
     "output_type": "display_data"
    }
   ],
   "source": [
    "#24 hours plot\n",
    "plt.plot(whole_data['timestamp'][24*100:24*101],whole_data['norm_elec'][24*100:24*101])\n",
    "plt.plot(whole_data['timestamp'][24*100:24*101],whole_data['norm_temp'][24*100:24*101])\n",
    "fig = plt.gcf()\n",
    "fig.set_size_inches(12, 10)"
   ]
  },
  {
   "cell_type": "code",
   "execution_count": 159,
   "id": "e96336ec-0c89-4c4f-914c-971d1b0f8266",
   "metadata": {},
   "outputs": [
    {
     "data": {
      "text/plain": [
       "True"
      ]
     },
     "execution_count": 159,
     "metadata": {},
     "output_type": "execute_result"
    }
   ],
   "source": [
    "whole_data['electricity'].isnull().values.any()"
   ]
  },
  {
   "cell_type": "code",
   "execution_count": 160,
   "id": "0a18dcae-79d0-40b8-a382-5ead737573d6",
   "metadata": {},
   "outputs": [
    {
     "data": {
      "text/plain": [
       "(array([ 1075,  1076,  1077,  1078,  1079,  4074,  4075,  4076,  4077,\n",
       "         4078,  4079, 13004, 13005, 13006]),)"
      ]
     },
     "execution_count": 160,
     "metadata": {},
     "output_type": "execute_result"
    }
   ],
   "source": [
    "np.where(whole_data['electricity'].isna())"
   ]
  },
  {
   "cell_type": "code",
   "execution_count": 161,
   "id": "7935ad23-d8ed-4bd5-be19-ab7d33e8583f",
   "metadata": {},
   "outputs": [],
   "source": [
    "whole_data.dropna(subset = ['electricity'], inplace=True)"
   ]
  },
  {
   "cell_type": "code",
   "execution_count": 162,
   "id": "6870aa2a-59bd-489d-beec-882189ff2951",
   "metadata": {},
   "outputs": [
    {
     "data": {
      "text/plain": [
       "False"
      ]
     },
     "execution_count": 162,
     "metadata": {},
     "output_type": "execute_result"
    }
   ],
   "source": [
    "whole_data['electricity'].isnull().values.any()"
   ]
  },
  {
   "cell_type": "code",
   "execution_count": 163,
   "id": "2c3868f2-31d4-4561-bbb5-8cde2c15c281",
   "metadata": {},
   "outputs": [
    {
     "data": {
      "text/plain": [
       "17504"
      ]
     },
     "execution_count": 163,
     "metadata": {},
     "output_type": "execute_result"
    }
   ],
   "source": [
    "len(whole_data)"
   ]
  },
  {
   "cell_type": "code",
   "execution_count": 140,
   "id": "617c6806-8553-4a1d-a38b-bcd459f9b93b",
   "metadata": {},
   "outputs": [],
   "source": [
    "from sklearn.model_selection import train_test_split"
   ]
  },
  {
   "cell_type": "code",
   "execution_count": 165,
   "id": "68eb5fd2-1948-43cf-9703-d4d2a2ad60b2",
   "metadata": {},
   "outputs": [],
   "source": [
    "X, Y = np.array(whole_data['temperature']).reshape(-1,1),np.array(whole_data['electricity']).reshape(-1,1)"
   ]
  },
  {
   "cell_type": "code",
   "execution_count": 179,
   "id": "1b0090ac-e8b6-4d13-be6e-b2aa3044071c",
   "metadata": {},
   "outputs": [],
   "source": [
    "X_train, X_test, Y_train, Y_test = train_test_split(X, Y, test_size=0.2, shuffle=False, random_state=0)"
   ]
  },
  {
   "cell_type": "code",
   "execution_count": 175,
   "id": "49570d08-a823-493b-9402-3eb884094b23",
   "metadata": {},
   "outputs": [
    {
     "name": "stderr",
     "output_type": "stream",
     "text": [
      "/opt/conda/lib/python3.8/site-packages/sklearn/utils/validation.py:63: DataConversionWarning: A column-vector y was passed when a 1d array was expected. Please change the shape of y to (n_samples, ), for example using ravel().\n",
      "  return f(*args, **kwargs)\n"
     ]
    },
    {
     "data": {
      "text/plain": [
       "AdaBoostRegressor(learning_rate=0.05, n_estimators=1000)"
      ]
     },
     "execution_count": 175,
     "metadata": {},
     "output_type": "execute_result"
    }
   ],
   "source": [
    "from sklearn.ensemble import AdaBoostRegressor\n",
    "\n",
    "# Initialize the estimator\n",
    "mdl_adaboost = AdaBoostRegressor(n_estimators=1000, learning_rate=0.05)\n",
    "\n",
    "# Fit the data\n",
    "mdl_adaboost.fit(X_train, Y_train)"
   ]
  },
  {
   "cell_type": "code",
   "execution_count": 176,
   "id": "dc195da6-0188-461a-887b-3e9cdee47e8f",
   "metadata": {},
   "outputs": [
    {
     "data": {
      "text/plain": [
       "0.12467615884356198"
      ]
     },
     "execution_count": 176,
     "metadata": {},
     "output_type": "execute_result"
    }
   ],
   "source": [
    "mdl_adaboost.score(X_test, Y_test)"
   ]
  },
  {
   "cell_type": "code",
   "execution_count": 203,
   "id": "859aff9c-c786-4c35-906e-b0fc4eafe921",
   "metadata": {},
   "outputs": [
    {
     "data": {
      "text/plain": [
       "array([16.48683445, 16.41315646, 16.37912813])"
      ]
     },
     "execution_count": 203,
     "metadata": {},
     "output_type": "execute_result"
    }
   ],
   "source": [
    "mdl_adaboost.predict(X_test[:3])"
   ]
  },
  {
   "cell_type": "code",
   "execution_count": 177,
   "id": "a12fbde3-eb01-4d22-8888-f738f575f366",
   "metadata": {},
   "outputs": [],
   "source": [
    "# Bad predicion :/"
   ]
  },
  {
   "cell_type": "code",
   "execution_count": 178,
   "id": "cd974124-4bb3-41ec-84a1-23d574d3b3cc",
   "metadata": {},
   "outputs": [],
   "source": [
    "X_norm, Y_norm = np.array(whole_data['norm_temp']).reshape(-1,1),np.array(whole_data['norm_elec']).reshape(-1,1)"
   ]
  },
  {
   "cell_type": "code",
   "execution_count": 180,
   "id": "a0ee1a3d-544c-4119-b7a3-64aaf8bc55bc",
   "metadata": {},
   "outputs": [],
   "source": [
    "X_train_norm, X_test_norm, Y_train_norm, Y_test_norm = train_test_split(X_norm, Y_norm, test_size=0.2, shuffle=False, random_state=0)"
   ]
  },
  {
   "cell_type": "code",
   "execution_count": 183,
   "id": "d2cfa915-e854-469b-b3d5-11b685ffe7b1",
   "metadata": {},
   "outputs": [
    {
     "name": "stderr",
     "output_type": "stream",
     "text": [
      "/opt/conda/lib/python3.8/site-packages/sklearn/utils/validation.py:63: DataConversionWarning: A column-vector y was passed when a 1d array was expected. Please change the shape of y to (n_samples, ), for example using ravel().\n",
      "  return f(*args, **kwargs)\n"
     ]
    },
    {
     "data": {
      "text/plain": [
       "AdaBoostRegressor(learning_rate=0.05, n_estimators=500)"
      ]
     },
     "execution_count": 183,
     "metadata": {},
     "output_type": "execute_result"
    }
   ],
   "source": [
    "# Initialize the estimator\n",
    "mdl_adaboost_norm = AdaBoostRegressor(n_estimators=500, learning_rate=0.05)\n",
    "\n",
    "# Fit the data\n",
    "mdl_adaboost_norm.fit(X_train_norm, Y_train_norm)"
   ]
  },
  {
   "cell_type": "code",
   "execution_count": 184,
   "id": "f338e553-a5d4-44df-b542-320bdb298c6e",
   "metadata": {},
   "outputs": [
    {
     "data": {
      "text/plain": [
       "-8593.684487743822"
      ]
     },
     "execution_count": 184,
     "metadata": {},
     "output_type": "execute_result"
    }
   ],
   "source": [
    "mdl_adaboost.score(X_test_norm, Y_test_norm)"
   ]
  },
  {
   "cell_type": "code",
   "execution_count": 185,
   "id": "b902eabd-c9d7-4559-8823-7ecf8d49753b",
   "metadata": {},
   "outputs": [],
   "source": [
    "from sklearn.neural_network import MLPRegressor"
   ]
  },
  {
   "cell_type": "code",
   "execution_count": 189,
   "id": "1aeb6a59-bf7e-4148-b44f-23078ed1d2e4",
   "metadata": {},
   "outputs": [
    {
     "name": "stderr",
     "output_type": "stream",
     "text": [
      "/opt/conda/lib/python3.8/site-packages/sklearn/utils/validation.py:63: DataConversionWarning: A column-vector y was passed when a 1d array was expected. Please change the shape of y to (n_samples, ), for example using ravel().\n",
      "  return f(*args, **kwargs)\n"
     ]
    }
   ],
   "source": [
    "regr = MLPRegressor(max_iter=500).fit(X_train, Y_train)"
   ]
  },
  {
   "cell_type": "code",
   "execution_count": 190,
   "id": "0c804423-4100-4be1-9806-73bdb6518bef",
   "metadata": {},
   "outputs": [
    {
     "data": {
      "text/plain": [
       "0.02159839169093991"
      ]
     },
     "execution_count": 190,
     "metadata": {},
     "output_type": "execute_result"
    }
   ],
   "source": [
    "regr.score(X_test, Y_test)"
   ]
  },
  {
   "cell_type": "markdown",
   "id": "0c184074-6f5d-4841-8024-c988ad0976a4",
   "metadata": {},
   "source": [
    "Adaboost perform better than MLP here but overall the predictor is not good at all because the better technique like time-series prediction will be more appropriate. Nevertheless, let's assume we have a good predictor here"
   ]
  },
  {
   "cell_type": "code",
   "execution_count": 201,
   "id": "3f215bb5-af9a-4f8e-a3e6-edec194d3e25",
   "metadata": {},
   "outputs": [],
   "source": [
    "#Creating personal's energy consumption\n",
    "#Create the list by random\n",
    "\n",
    "#Random values is actually not represents the real-life personal's energy consumption because it also will be affected with temperature outside\n",
    "#but for simplicity let's assign random values\n",
    "#also let's assume these values are the forecasted personal's energy consumption if he/she wfh"
   ]
  },
  {
   "cell_type": "code",
   "execution_count": 195,
   "id": "8f946624-c3bd-4029-ac1c-24a881bbb1e6",
   "metadata": {},
   "outputs": [],
   "source": [
    "import random"
   ]
  },
  {
   "cell_type": "code",
   "execution_count": 196,
   "id": "6ac912ee-05d2-4d3b-96e5-44f8f2fe127d",
   "metadata": {},
   "outputs": [],
   "source": [
    "pers_elec = [random.uniform(min(whole_data['electricity']),max(whole_data['electricity'])+2) for i in range(len(whole_data))]"
   ]
  },
  {
   "cell_type": "code",
   "execution_count": 197,
   "id": "9ee5b81c-77d3-4888-be0f-d7bb6e5462d0",
   "metadata": {},
   "outputs": [],
   "source": [
    "whole_data['pers_elec']=pers_elec"
   ]
  },
  {
   "cell_type": "code",
   "execution_count": 198,
   "id": "7bfc0318-e91a-4005-846c-886adfda5327",
   "metadata": {},
   "outputs": [
    {
     "data": {
      "text/html": [
       "<div>\n",
       "<style scoped>\n",
       "    .dataframe tbody tr th:only-of-type {\n",
       "        vertical-align: middle;\n",
       "    }\n",
       "\n",
       "    .dataframe tbody tr th {\n",
       "        vertical-align: top;\n",
       "    }\n",
       "\n",
       "    .dataframe thead th {\n",
       "        text-align: right;\n",
       "    }\n",
       "</style>\n",
       "<table border=\"1\" class=\"dataframe\">\n",
       "  <thead>\n",
       "    <tr style=\"text-align: right;\">\n",
       "      <th></th>\n",
       "      <th>timestamp</th>\n",
       "      <th>electricity</th>\n",
       "      <th>temperature</th>\n",
       "      <th>norm_elec</th>\n",
       "      <th>norm_temp</th>\n",
       "      <th>pers_elec</th>\n",
       "    </tr>\n",
       "  </thead>\n",
       "  <tbody>\n",
       "    <tr>\n",
       "      <th>0</th>\n",
       "      <td>2017-01-01 00:00:00</td>\n",
       "      <td>17.473541</td>\n",
       "      <td>288.403717</td>\n",
       "      <td>0.418848</td>\n",
       "      <td>0.938157</td>\n",
       "      <td>8.378234</td>\n",
       "    </tr>\n",
       "    <tr>\n",
       "      <th>1</th>\n",
       "      <td>2017-01-01 01:00:00</td>\n",
       "      <td>17.473541</td>\n",
       "      <td>288.215302</td>\n",
       "      <td>0.418848</td>\n",
       "      <td>0.937544</td>\n",
       "      <td>27.294916</td>\n",
       "    </tr>\n",
       "    <tr>\n",
       "      <th>2</th>\n",
       "      <td>2017-01-01 02:00:00</td>\n",
       "      <td>16.927494</td>\n",
       "      <td>287.787018</td>\n",
       "      <td>0.405759</td>\n",
       "      <td>0.936151</td>\n",
       "      <td>11.646024</td>\n",
       "    </tr>\n",
       "    <tr>\n",
       "      <th>3</th>\n",
       "      <td>2017-01-01 03:00:00</td>\n",
       "      <td>18.838663</td>\n",
       "      <td>286.906189</td>\n",
       "      <td>0.451571</td>\n",
       "      <td>0.933286</td>\n",
       "      <td>23.138276</td>\n",
       "    </tr>\n",
       "    <tr>\n",
       "      <th>4</th>\n",
       "      <td>2017-01-01 04:00:00</td>\n",
       "      <td>17.801170</td>\n",
       "      <td>286.200562</td>\n",
       "      <td>0.426702</td>\n",
       "      <td>0.930990</td>\n",
       "      <td>1.753459</td>\n",
       "    </tr>\n",
       "  </tbody>\n",
       "</table>\n",
       "</div>"
      ],
      "text/plain": [
       "            timestamp  electricity  temperature  norm_elec  norm_temp  \\\n",
       "0 2017-01-01 00:00:00    17.473541   288.403717   0.418848   0.938157   \n",
       "1 2017-01-01 01:00:00    17.473541   288.215302   0.418848   0.937544   \n",
       "2 2017-01-01 02:00:00    16.927494   287.787018   0.405759   0.936151   \n",
       "3 2017-01-01 03:00:00    18.838663   286.906189   0.451571   0.933286   \n",
       "4 2017-01-01 04:00:00    17.801170   286.200562   0.426702   0.930990   \n",
       "\n",
       "   pers_elec  \n",
       "0   8.378234  \n",
       "1  27.294916  \n",
       "2  11.646024  \n",
       "3  23.138276  \n",
       "4   1.753459  "
      ]
     },
     "execution_count": 198,
     "metadata": {},
     "output_type": "execute_result"
    }
   ],
   "source": [
    "whole_data.head()"
   ]
  },
  {
   "cell_type": "code",
   "execution_count": 211,
   "id": "d8283d87-7a66-466a-a0ed-229c3af9194a",
   "metadata": {},
   "outputs": [],
   "source": [
    "#function to decide whether wfh or wfo\n",
    "def wfho(IBM_Pairs_temperature, forecast_pers_elec):\n",
    "    wfo_elec = sum(mdl_adaboost.predict(IBM_Pairs_temperature))\n",
    "    wfh_elec = sum(forecast_pers_elec)\n",
    "    if wfo_elec < wfh_elec:\n",
    "        print('WFO will reduce your energy consumption today')\n",
    "    else:\n",
    "        print('WFH will reduce your energy consumption today')"
   ]
  },
  {
   "cell_type": "markdown",
   "id": "40dc244c-29d0-42d8-8fe7-97bd9c1d95cf",
   "metadata": {},
   "source": [
    "Of course, this is just a simple code but the real implementation will need to optimize all the the other variables in one go so it will lead to better recommendation from energy perspective"
   ]
  },
  {
   "cell_type": "code",
   "execution_count": 205,
   "id": "81cd370c-24c4-4a3f-b243-e8cbe37e618e",
   "metadata": {},
   "outputs": [],
   "source": [
    "#Let's see when a person working 8-hours on 2017-07-08 from 09:00:00 to 17:00:00"
   ]
  },
  {
   "cell_type": "code",
   "execution_count": 209,
   "id": "5131776c-49f3-4079-8ea8-79f2120d4b26",
   "metadata": {},
   "outputs": [
    {
     "name": "stdout",
     "output_type": "stream",
     "text": [
      "(array([4509]),) (array([4517]),)\n"
     ]
    }
   ],
   "source": [
    "print(np.where(whole_data['timestamp']=='2017-07-08 09:00:00'),np.where(whole_data['timestamp']=='2017-07-08 17:00:00'))"
   ]
  },
  {
   "cell_type": "code",
   "execution_count": 214,
   "id": "21fa8b8b-ce86-4f7d-b2b6-dc167c381257",
   "metadata": {},
   "outputs": [],
   "source": [
    "temp_ibmpairs = np.array(whole_data['temperature']).reshape(-1,1)\n",
    "forecast_pers_elec = np.array(whole_data['pers_elec']).reshape(-1,1)"
   ]
  },
  {
   "cell_type": "code",
   "execution_count": 215,
   "id": "b60c3afa-7954-42ba-8f9f-7982757ff169",
   "metadata": {},
   "outputs": [
    {
     "name": "stdout",
     "output_type": "stream",
     "text": [
      "WFO will reduce your energy consumption today\n"
     ]
    }
   ],
   "source": [
    "wfho(temp_ibmpairs[4509:4518],forecast_pers_elec[4509:4518])"
   ]
  },
  {
   "cell_type": "markdown",
   "id": "2a560680-29b5-4826-9121-e9966639f645",
   "metadata": {},
   "source": [
    "When combines with the other IBM services, this code will be more practical and the company that use this app/code will reduce the true carbon emission/energy consumption of their employees not only for their building for as a whole total reduction. The pilot project can be started to the companies which have own dormitories for employee so it's easy to monitor. Such companies are quite common in Japan. Of course, the decision/policy to WFH / WFO should be accommodated other aspects especially productivity of the employee and the business value itself but through this code/app it can make companies aware of their decision based on energy perspective."
   ]
  }
 ],
 "metadata": {
  "kernelspec": {
   "display_name": "Python 3 (ipykernel)",
   "language": "python",
   "name": "python3"
  },
  "language_info": {
   "codemirror_mode": {
    "name": "ipython",
    "version": 3
   },
   "file_extension": ".py",
   "mimetype": "text/x-python",
   "name": "python",
   "nbconvert_exporter": "python",
   "pygments_lexer": "ipython3",
   "version": "3.8.10"
  }
 },
 "nbformat": 4,
 "nbformat_minor": 5
}
